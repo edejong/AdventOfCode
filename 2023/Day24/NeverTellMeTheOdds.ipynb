{
 "cells": [
  {
   "cell_type": "code",
   "execution_count": 2,
   "id": "b4a9060f-10d9-4716-a33e-79d40246e768",
   "metadata": {},
   "outputs": [],
   "source": [
    "from sympy import *\n",
    "from sympy.vector import CoordSys3D\n",
    "from sympy.vector import Vector\n",
    "\n",
    "N = CoordSys3D('N')\n",
    "\n",
    "def vec3(x, y, z):\n",
    "    return x*N.i + y*N.j + z*N.k"
   ]
  },
  {
   "cell_type": "code",
   "execution_count": 12,
   "id": "a756b72b-874b-4daa-8282-4fb59f190372",
   "metadata": {},
   "outputs": [
    {
     "name": "stdout",
     "output_type": "stream",
     "text": [
      "[(8 - v2)*(p3 - 134367602892386) + (p2 - 321166281702430)*(v3 - 338), (338 - v3)*(p1 - 176253337504656) + (p3 - 134367602892386)*(v1 - 190), (190 - v1)*(p2 - 321166281702430) + (p1 - 176253337504656)*(v2 - 8), (303 - v2)*(p3 - 73640306314241) + (p2 - 112919194224200)*(v3 - 398), (398 - v3)*(p1 - 230532038994496) + (p3 - 73640306314241)*(v1 - 98), (98 - v1)*(p2 - 112919194224200) + (p1 - 230532038994496)*(v2 - 303), (p2 - 321507930209081)*(v3 + 75) + (p3 - 325769499763335)*(-v2 - 119), (p1 - 326610633825237)*(-v3 - 75) + (p3 - 325769499763335)*(v1 + 67), (p1 - 326610633825237)*(v2 + 119) + (p2 - 321507930209081)*(-v1 - 67), (40 - v2)*(p3 - 222921323057425) + (p2 - 294541805320942)*(v3 + 40), (p1 - 247597416289076)*(-v3 - 40) + (p3 - 222921323057425)*(v1 + 76), (p1 - 247597416289076)*(v2 - 40) + (p2 - 294541805320942)*(-v1 - 76), (p2 - 361186328321686)*(v3 + 65) + (p3 - 241687357180579)*(-v2 - 211), (p1 - 219025967354328)*(-v3 - 65) + (p3 - 241687357180579)*(v1 - 58), (58 - v1)*(p2 - 361186328321686) + (p1 - 219025967354328)*(v2 + 211)]\n",
      "669042940632377\n"
     ]
    }
   ],
   "source": [
    "p, v, p1, p2, p3, v1, v2, v3 = symbols('p v p1 p2 p3 v1 v2 v3')\n",
    "\n",
    "Ap, Av = vec3(176253337504656, 321166281702430, 134367602892386), vec3(190, 8, 338)\n",
    "Bp, Bv = vec3(230532038994496, 112919194224200, 73640306314241), vec3(98, 303, 398)\n",
    "Cp, Cv = vec3(326610633825237, 321507930209081, 325769499763335), vec3(-67, -119, -75)\n",
    "Dp, Dv = vec3(247597416289076, 294541805320942, 222921323057425), vec3(-76, 40, -40)\n",
    "Ep, Ev = vec3(219025967354328, 361186328321686, 241687357180579), vec3(58, -211, -65)\n",
    "\n",
    "p = vec3(p1,p2,p3)\n",
    "v = vec3(v1,v2,v3)\n",
    "\n",
    "eqA = (p - Ap).cross(v - Av)\n",
    "eqB = (p - Bp).cross(v - Bv)\n",
    "eqC = (p - Cp).cross(v - Cv)\n",
    "eqD = (p - Dp).cross(v - Dv)\n",
    "eqE = (p - Ep).cross(v - Ev)\n",
    "\n",
    "eqs = [eq.coeff(c) for eq in [eqA, eqB, eqC, eqD, eqE] for c in [N.i, N.j, N.k]]\n",
    "sol = solve(eqs, {p1,p2,p3,v1,v2,v3})\n",
    "\n",
    "print(sol[0][p1] + sol[0][p2] + sol[0][p3])"
   ]
  }
 ],
 "metadata": {
  "kernelspec": {
   "display_name": "Python 3 (ipykernel)",
   "language": "python",
   "name": "python3"
  },
  "language_info": {
   "codemirror_mode": {
    "name": "ipython",
    "version": 3
   },
   "file_extension": ".py",
   "mimetype": "text/x-python",
   "name": "python",
   "nbconvert_exporter": "python",
   "pygments_lexer": "ipython3",
   "version": "3.11.5"
  }
 },
 "nbformat": 4,
 "nbformat_minor": 5
}
